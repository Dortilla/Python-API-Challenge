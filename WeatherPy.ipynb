{
 "cells": [
  {
   "cell_type": "markdown",
   "id": "6c889036",
   "metadata": {},
   "source": [
    "# WeatherPy"
   ]
  },
  {
   "cell_type": "code",
   "execution_count": 5,
   "id": "8e045e73",
   "metadata": {},
   "outputs": [],
   "source": [
    "# Dependencies and Setup\n",
    "import matplotlib.pyplot as plt\n",
    "import pandas as pd\n",
    "import numpy as np\n",
    "import requests\n",
    "import time\n",
    "from scipy.stats import linregress\n",
    "\n",
    "# Import API key\n",
    "from api_keys import weather_api_key\n",
    "\n",
    "# Incorporated citipy to determine city based on latitude and longitude\n",
    "from citipy import citipy\n",
    "\n",
    "# Output File (CSV)\n",
    "output_data_file = \"outputs/cities.csv\"\n",
    "\n",
    "# Range of latitudes and longitudes\n",
    "lat_range = (-90, 90)\n",
    "lng_range = (-180, 180)"
   ]
  },
  {
   "cell_type": "markdown",
   "id": "868119d9",
   "metadata": {},
   "source": [
    "# Cities List"
   ]
  },
  {
   "cell_type": "code",
   "execution_count": 2,
   "id": "5a54ea5b",
   "metadata": {},
   "outputs": [
    {
     "data": {
      "text/plain": [
       "609"
      ]
     },
     "execution_count": 2,
     "metadata": {},
     "output_type": "execute_result"
    }
   ],
   "source": [
    "# List for holding lat_lngs and cities\n",
    "lat_lngs = []\n",
    "cities = []\n",
    "\n",
    "# Create a set of random lat and lng combinations\n",
    "lats = np.random.uniform(lat_range[0], lat_range[1], size=1500)\n",
    "lngs = np.random.uniform(lng_range[0], lng_range[1], size=1500)\n",
    "lat_lngs = zip(lats, lngs)\n",
    "\n",
    "# Identify nearest city for each lat, lng combination\n",
    "for lat_lng in lat_lngs:\n",
    "    city = citipy.nearest_city(lat_lng[0], lat_lng[1]).city_name\n",
    "    \n",
    "    # If the city is unique, then add it to a our cities list\n",
    "    if city not in cities:\n",
    "        cities.append(city)\n",
    "\n",
    "# Print the city count to confirm sufficient count\n",
    "len(cities)"
   ]
  },
  {
   "cell_type": "markdown",
   "id": "b8a095b1",
   "metadata": {},
   "source": [
    "# API Calls"
   ]
  },
  {
   "cell_type": "code",
   "execution_count": 3,
   "id": "4665494b",
   "metadata": {},
   "outputs": [],
   "source": [
    "# save info from api_keys\n",
    "url = 'http://api.openweathermap.org/data/2.5/weather?'\n",
    "units = 'imperial'\n",
    "\n",
    "# build partial query URL\n",
    "query_url = f'{url}&units={units}&appid={weather_api_key}&q='"
   ]
  },
  {
   "cell_type": "code",
   "execution_count": 4,
   "id": "2e6fb5ae",
   "metadata": {},
   "outputs": [
    {
     "name": "stdout",
     "output_type": "stream",
     "text": [
      "commencing data retrieval      \n",
      "-------------------------------\n",
      "Processing record 1 of set 1 | grindavik\n",
      "Processing record 2 of set 1 | kapaa\n",
      "Processing record 3 of set 1 | yeppoon\n",
      "Processing record 4 of set 1 | georgetown\n",
      "Processing record 5 of set 1 | jamestown\n",
      "Processing record 6 of set 1 | ushuaia\n",
      "Processing record 7 of set 1 | ancud\n",
      "Processing record 8 of set 1 | new norfolk\n",
      "Processing record 9 of set 1 | saint george\n",
      "Processing record 10 of set 1 | albany\n",
      "Processing record 11 of set 1 | rikitea\n",
      "Processing record 12 of set 1 | busselton\n",
      "Processing record 13 of set 1 | port alfred\n",
      "Processing record 14 of set 1 | punta arenas\n",
      "Processing record 15 of set 1 | bengkulu\n",
      "Processing record 16 of set 1 | owen sound\n",
      "Processing record 17 of set 1 | bredasdorp\n",
      "Processing record 18 of set 1 | quang ngai\n",
      "Processing record 19 of set 1 | balkanabat\n",
      "Processing record 20 of set 1 | urucui\n",
      "Processing record 21 of set 1 | attawapiskat\n",
      "city not found. skipping...\n",
      "Processing record 22 of set 1 | belushya guba\n",
      "city not found. skipping...\n",
      "Processing record 23 of set 1 | rungata\n",
      "city not found. skipping...\n",
      "Processing record 24 of set 1 | east london\n",
      "Processing record 25 of set 1 | severo-kurilsk\n",
      "Processing record 26 of set 1 | bairiki\n",
      "Processing record 27 of set 1 | faanui\n",
      "Processing record 28 of set 1 | tuatapere\n",
      "Processing record 29 of set 1 | padang\n",
      "Processing record 30 of set 1 | provideniya\n",
      "Processing record 31 of set 1 | sundumbili\n",
      "Processing record 32 of set 1 | port washington\n",
      "Processing record 33 of set 1 | lata\n",
      "Processing record 34 of set 1 | yellowknife\n",
      "Processing record 35 of set 1 | wuwei\n",
      "Processing record 36 of set 1 | saskylakh\n",
      "Processing record 37 of set 1 | pevek\n",
      "Processing record 38 of set 1 | nizhneyansk\n",
      "city not found. skipping...\n",
      "Processing record 39 of set 1 | vaini\n",
      "Processing record 40 of set 1 | torbay\n",
      "Processing record 41 of set 1 | victoria\n",
      "Processing record 42 of set 1 | aflu\n",
      "city not found. skipping...\n",
      "Processing record 43 of set 1 | mataura\n",
      "Processing record 44 of set 1 | chumikan\n",
      "Processing record 45 of set 1 | nikolskoye\n",
      "Processing record 46 of set 1 | jiazi\n",
      "Processing record 47 of set 1 | maarianhamina\n",
      "Processing record 48 of set 1 | hilo\n",
      "Processing record 49 of set 1 | talaya\n",
      "Processing record 50 of set 1 | vao\n",
      "Processing record 0 of set 2 | kaeo\n",
      "Processing record 1 of set 2 | banjar\n",
      "Processing record 2 of set 2 | rio grande\n",
      "Processing record 3 of set 2 | vardo\n",
      "Processing record 4 of set 2 | cockburn town\n",
      "Processing record 5 of set 2 | hobyo\n",
      "Processing record 6 of set 2 | lebu\n",
      "Processing record 7 of set 2 | mumford\n",
      "Processing record 8 of set 2 | vestmannaeyjar\n",
      "Processing record 9 of set 2 | dzerzhinsk\n",
      "Processing record 10 of set 2 | richards bay\n",
      "Processing record 11 of set 2 | airai\n",
      "Processing record 12 of set 2 | jumla\n",
      "Processing record 13 of set 2 | arraial do cabo\n",
      "Processing record 14 of set 2 | general roca\n",
      "Processing record 15 of set 2 | acajutla\n",
      "Processing record 16 of set 2 | vila velha\n",
      "Processing record 17 of set 2 | anloga\n",
      "Processing record 18 of set 2 | lokosovo\n",
      "Processing record 19 of set 2 | san miguel\n",
      "Processing record 20 of set 2 | wainwright\n",
      "Processing record 21 of set 2 | barrow\n",
      "Processing record 22 of set 2 | mar del plata\n",
      "Processing record 23 of set 2 | miandrivazo\n",
      "Processing record 24 of set 2 | fortuna\n",
      "Processing record 25 of set 2 | avarua\n",
      "Processing record 26 of set 2 | ambon\n",
      "Processing record 27 of set 2 | bathsheba\n",
      "Processing record 28 of set 2 | bluff\n",
      "Processing record 29 of set 2 | chuy\n",
      "Processing record 30 of set 2 | beloha\n",
      "Processing record 31 of set 2 | kodiak\n",
      "Processing record 32 of set 2 | barawe\n",
      "city not found. skipping...\n",
      "Processing record 33 of set 2 | kiama\n",
      "Processing record 34 of set 2 | dikson\n",
      "Processing record 35 of set 2 | cape town\n",
      "Processing record 36 of set 2 | honningsvag\n",
      "Processing record 37 of set 2 | bethel\n",
      "Processing record 38 of set 2 | hirara\n",
      "Processing record 39 of set 2 | shelbyville\n",
      "Processing record 40 of set 2 | puerto baquerizo moreno\n",
      "Processing record 41 of set 2 | never\n",
      "Processing record 42 of set 2 | chokurdakh\n",
      "Processing record 43 of set 2 | port hardy\n",
      "Processing record 44 of set 2 | saldanha\n",
      "Processing record 45 of set 2 | tula\n",
      "Processing record 46 of set 2 | fairbanks\n",
      "Processing record 47 of set 2 | alofi\n",
      "Processing record 48 of set 2 | tuktoyaktuk\n",
      "Processing record 49 of set 2 | pathein\n",
      "Processing record 0 of set 3 | sosnovka\n",
      "Processing record 1 of set 3 | bubaque\n",
      "Processing record 2 of set 3 | iqaluit\n",
      "Processing record 3 of set 3 | kununurra\n",
      "Processing record 4 of set 3 | hobart\n",
      "Processing record 5 of set 3 | kyshtovka\n",
      "Processing record 6 of set 3 | mpraeso\n",
      "Processing record 7 of set 3 | atar\n",
      "Processing record 8 of set 3 | tiksi\n",
      "Processing record 9 of set 3 | muros\n",
      "Processing record 10 of set 3 | zhigansk\n",
      "Processing record 11 of set 3 | tchollire\n",
      "Processing record 12 of set 3 | kapoeta\n",
      "Processing record 13 of set 3 | kristiinankaupunki\n",
      "Processing record 14 of set 3 | guerrero negro\n",
      "Processing record 15 of set 3 | riwaka\n",
      "Processing record 16 of set 3 | dalian\n",
      "Processing record 17 of set 3 | tasiilaq\n",
      "Processing record 18 of set 3 | mahadday weyne\n",
      "city not found. skipping...\n",
      "Processing record 19 of set 3 | pisco\n",
      "Processing record 20 of set 3 | paamiut\n",
      "Processing record 21 of set 3 | sentyabrskiy\n",
      "city not found. skipping...\n",
      "Processing record 22 of set 3 | samusu\n",
      "city not found. skipping...\n",
      "Processing record 23 of set 3 | mandalgovi\n",
      "Processing record 24 of set 3 | port elizabeth\n",
      "Processing record 25 of set 3 | chenzhou\n",
      "Processing record 26 of set 3 | belaya gora\n",
      "Processing record 27 of set 3 | hamilton\n",
      "Processing record 28 of set 3 | oranjemund\n",
      "Processing record 29 of set 3 | kungurtug\n",
      "Processing record 30 of set 3 | ostersund\n",
      "Processing record 31 of set 3 | simao\n",
      "Processing record 32 of set 3 | shizunai\n",
      "Processing record 33 of set 3 | berdigestyakh\n",
      "Processing record 34 of set 3 | hithadhoo\n",
      "Processing record 35 of set 3 | brae\n",
      "Processing record 36 of set 3 | barentsburg\n",
      "city not found. skipping...\n",
      "Processing record 37 of set 3 | krasnoselkup\n",
      "Processing record 38 of set 3 | pontian kecil\n",
      "Processing record 39 of set 3 | qaanaaq\n",
      "Processing record 40 of set 3 | dubenskiy\n",
      "city not found. skipping...\n",
      "Processing record 41 of set 3 | puerto rico\n",
      "Processing record 42 of set 3 | taolanaro\n",
      "city not found. skipping...\n",
      "Processing record 43 of set 3 | ust-koksa\n",
      "Processing record 44 of set 3 | ust-kuyga\n",
      "Processing record 45 of set 3 | bonavista\n",
      "Processing record 46 of set 3 | saint-philippe\n",
      "Processing record 47 of set 3 | tucumcari\n",
      "Processing record 48 of set 3 | kharhial\n",
      "Processing record 49 of set 3 | tomatlan\n",
      "Processing record 0 of set 4 | gourcy\n",
      "Processing record 1 of set 4 | sitka\n",
      "Processing record 2 of set 4 | taywarah\n",
      "Processing record 3 of set 4 | half moon bay\n",
      "Processing record 4 of set 4 | hermanus\n",
      "Processing record 5 of set 4 | nouakchott\n",
      "Processing record 6 of set 4 | hambantota\n",
      "Processing record 7 of set 4 | esperance\n",
      "Processing record 8 of set 4 | cherskiy\n",
      "Processing record 9 of set 4 | daru\n",
      "Processing record 10 of set 4 | butaritari\n",
      "Processing record 11 of set 4 | cidreira\n",
      "Processing record 12 of set 4 | iracoubo\n",
      "Processing record 13 of set 4 | komsomolskiy\n",
      "Processing record 14 of set 4 | khatanga\n",
      "Processing record 15 of set 4 | garden city\n",
      "Processing record 16 of set 4 | vavoua\n",
      "Processing record 17 of set 4 | grand river south east\n",
      "city not found. skipping...\n",
      "Processing record 18 of set 4 | nshamba\n",
      "Processing record 19 of set 4 | nanortalik\n",
      "Processing record 20 of set 4 | coquimbo\n",
      "Processing record 21 of set 4 | mizan teferi\n",
      "Processing record 22 of set 4 | carutapera\n",
      "Processing record 23 of set 4 | rovnoye\n",
      "Processing record 24 of set 4 | axim\n",
      "Processing record 25 of set 4 | sao filipe\n",
      "Processing record 26 of set 4 | cayenne\n",
      "Processing record 27 of set 4 | longkou\n",
      "Processing record 28 of set 4 | forecariah\n",
      "Processing record 29 of set 4 | jalu\n",
      "Processing record 30 of set 4 | algiers\n",
      "Processing record 31 of set 4 | la ronge\n",
      "Processing record 32 of set 4 | petropavlovsk-kamchatskiy\n",
      "Processing record 33 of set 4 | lolua\n",
      "city not found. skipping...\n",
      "Processing record 34 of set 4 | san patricio\n",
      "Processing record 35 of set 4 | romny\n",
      "Processing record 36 of set 4 | ilulissat\n",
      "Processing record 37 of set 4 | leningradskiy\n"
     ]
    },
    {
     "name": "stdout",
     "output_type": "stream",
     "text": [
      "Processing record 38 of set 4 | merauke\n",
      "Processing record 39 of set 4 | yatou\n",
      "Processing record 40 of set 4 | catuday\n",
      "Processing record 41 of set 4 | sfantu gheorghe\n",
      "Processing record 42 of set 4 | tres arroyos\n",
      "Processing record 43 of set 4 | ribeira grande\n",
      "Processing record 44 of set 4 | atuona\n",
      "Processing record 45 of set 4 | surgut\n",
      "Processing record 46 of set 4 | leon\n",
      "Processing record 47 of set 4 | malwan\n",
      "city not found. skipping...\n",
      "Processing record 48 of set 4 | igarka\n",
      "Processing record 49 of set 4 | rach gia\n",
      "Processing record 0 of set 5 | guaratuba\n",
      "Processing record 1 of set 5 | rawson\n",
      "Processing record 2 of set 5 | puerto ayora\n",
      "Processing record 3 of set 5 | san quintin\n",
      "Processing record 4 of set 5 | itoman\n",
      "Processing record 5 of set 5 | cambyreta\n",
      "city not found. skipping...\n",
      "Processing record 6 of set 5 | libourne\n",
      "Processing record 7 of set 5 | akyab\n",
      "Processing record 8 of set 5 | palmer\n",
      "Processing record 9 of set 5 | dudinka\n",
      "Processing record 10 of set 5 | jaisalmer\n",
      "Processing record 11 of set 5 | haines junction\n",
      "Processing record 12 of set 5 | longyearbyen\n",
      "Processing record 13 of set 5 | wahiawa\n",
      "Processing record 14 of set 5 | comodoro rivadavia\n",
      "Processing record 15 of set 5 | necochea\n",
      "Processing record 16 of set 5 | pacocha\n",
      "Processing record 17 of set 5 | lake city\n",
      "Processing record 18 of set 5 | nome\n",
      "Processing record 19 of set 5 | sevierville\n",
      "Processing record 20 of set 5 | morogoro\n",
      "Processing record 21 of set 5 | thompson\n",
      "Processing record 22 of set 5 | tocache\n",
      "Processing record 23 of set 5 | upernavik\n",
      "Processing record 24 of set 5 | gengenbach\n",
      "Processing record 25 of set 5 | acapulco\n",
      "Processing record 26 of set 5 | katsuura\n",
      "Processing record 27 of set 5 | kysyl-syr\n",
      "Processing record 28 of set 5 | vaitupu\n",
      "city not found. skipping...\n",
      "Processing record 29 of set 5 | dingle\n",
      "Processing record 30 of set 5 | buala\n",
      "Processing record 31 of set 5 | hami\n",
      "Processing record 32 of set 5 | touros\n",
      "Processing record 33 of set 5 | inirida\n",
      "Processing record 34 of set 5 | berbera\n",
      "Processing record 35 of set 5 | meulaboh\n",
      "Processing record 36 of set 5 | milkovo\n",
      "Processing record 37 of set 5 | bolshoy log\n",
      "city not found. skipping...\n",
      "Processing record 38 of set 5 | tidore\n",
      "city not found. skipping...\n",
      "Processing record 39 of set 5 | boende\n",
      "Processing record 40 of set 5 | yar-sale\n",
      "Processing record 41 of set 5 | amderma\n",
      "city not found. skipping...\n",
      "Processing record 42 of set 5 | bambous virieux\n",
      "Processing record 43 of set 5 | illoqqortoormiut\n",
      "city not found. skipping...\n",
      "Processing record 44 of set 5 | klaksvik\n",
      "Processing record 45 of set 5 | khorixas\n",
      "Processing record 46 of set 5 | mount gambier\n",
      "Processing record 47 of set 5 | sinnamary\n",
      "Processing record 48 of set 5 | berlevag\n",
      "Processing record 49 of set 5 | antalaha\n",
      "Processing record 0 of set 6 | gat\n",
      "Processing record 1 of set 6 | tsihombe\n",
      "city not found. skipping...\n",
      "Processing record 2 of set 6 | norman wells\n",
      "Processing record 3 of set 6 | fare\n",
      "Processing record 4 of set 6 | carnarvon\n",
      "Processing record 5 of set 6 | the valley\n",
      "Processing record 6 of set 6 | porangatu\n",
      "Processing record 7 of set 6 | tawang\n",
      "Processing record 8 of set 6 | lubango\n",
      "Processing record 9 of set 6 | toliary\n",
      "city not found. skipping...\n",
      "Processing record 10 of set 6 | tobermory\n",
      "Processing record 11 of set 6 | sola\n",
      "Processing record 12 of set 6 | aromashevo\n",
      "Processing record 13 of set 6 | kabarnet\n",
      "Processing record 14 of set 6 | esil\n",
      "Processing record 15 of set 6 | nouadhibou\n",
      "Processing record 16 of set 6 | port blair\n",
      "Processing record 17 of set 6 | lagoa\n",
      "Processing record 18 of set 6 | kiunga\n",
      "Processing record 19 of set 6 | kavaratti\n",
      "Processing record 20 of set 6 | inhambane\n",
      "Processing record 21 of set 6 | ponta do sol\n",
      "Processing record 22 of set 6 | cabo san lucas\n",
      "Processing record 23 of set 6 | auki\n",
      "Processing record 24 of set 6 | magdagachi\n",
      "Processing record 25 of set 6 | whitehorse\n",
      "Processing record 26 of set 6 | halifax\n",
      "Processing record 27 of set 6 | waddan\n",
      "Processing record 28 of set 6 | saint anthony\n",
      "Processing record 29 of set 6 | sheregesh\n",
      "Processing record 30 of set 6 | kibala\n",
      "Processing record 31 of set 6 | pacific grove\n",
      "Processing record 32 of set 6 | praia da vitoria\n",
      "Processing record 33 of set 6 | vavozh\n",
      "Processing record 34 of set 6 | mys shmidta\n",
      "city not found. skipping...\n",
      "Processing record 35 of set 6 | marrakesh\n",
      "Processing record 36 of set 6 | arecibo\n",
      "Processing record 37 of set 6 | souillac\n",
      "Processing record 38 of set 6 | esso\n",
      "Processing record 39 of set 6 | itarema\n",
      "Processing record 40 of set 6 | kailua\n",
      "Processing record 41 of set 6 | korla\n",
      "Processing record 42 of set 6 | behbahan\n",
      "Processing record 43 of set 6 | shestakovo\n",
      "Processing record 44 of set 6 | salihorsk\n",
      "Processing record 45 of set 6 | serebryanyy bor\n",
      "Processing record 46 of set 6 | isangel\n",
      "Processing record 47 of set 6 | teahupoo\n",
      "Processing record 48 of set 6 | majene\n",
      "Processing record 49 of set 6 | pontianak\n",
      "Processing record 0 of set 7 | goalpara\n",
      "Processing record 1 of set 7 | matara\n",
      "Processing record 2 of set 7 | bloemfontein\n",
      "Processing record 3 of set 7 | avera\n",
      "Processing record 4 of set 7 | cerro largo\n",
      "Processing record 5 of set 7 | ipixuna\n",
      "Processing record 6 of set 7 | cirebon\n",
      "Processing record 7 of set 7 | baykit\n",
      "Processing record 8 of set 7 | port augusta\n",
      "Processing record 9 of set 7 | cabedelo\n",
      "Processing record 10 of set 7 | marcona\n",
      "city not found. skipping...\n",
      "Processing record 11 of set 7 | castro\n",
      "Processing record 12 of set 7 | kalaleh\n",
      "Processing record 13 of set 7 | kaitangata\n",
      "Processing record 14 of set 7 | melfi\n",
      "Processing record 15 of set 7 | salgar\n",
      "Processing record 16 of set 7 | fushe-arrez\n",
      "Processing record 17 of set 7 | oriximina\n",
      "Processing record 18 of set 7 | puerto montt\n",
      "Processing record 19 of set 7 | nyimba\n",
      "Processing record 20 of set 7 | agadez\n",
      "Processing record 21 of set 7 | lompoc\n",
      "Processing record 22 of set 7 | saleaula\n",
      "city not found. skipping...\n",
      "Processing record 23 of set 7 | canton\n",
      "Processing record 24 of set 7 | lorengau\n",
      "Processing record 25 of set 7 | kanker\n",
      "Processing record 26 of set 7 | karakose\n",
      "city not found. skipping...\n",
      "Processing record 27 of set 7 | xining\n",
      "Processing record 28 of set 7 | quatre cocos\n",
      "Processing record 29 of set 7 | coos bay\n",
      "Processing record 30 of set 7 | aksarka\n",
      "Processing record 31 of set 7 | riohacha\n",
      "Processing record 32 of set 7 | claremorris\n",
      "Processing record 33 of set 7 | revelstoke\n",
      "Processing record 34 of set 7 | hereford\n",
      "Processing record 35 of set 7 | hasaki\n",
      "Processing record 36 of set 7 | pimenteiras\n",
      "Processing record 37 of set 7 | walvis bay\n",
      "Processing record 38 of set 7 | mocuba\n",
      "Processing record 39 of set 7 | bungu\n",
      "Processing record 40 of set 7 | carambei\n",
      "Processing record 41 of set 7 | lincoln\n",
      "Processing record 42 of set 7 | viransehir\n",
      "Processing record 43 of set 7 | codrington\n",
      "Processing record 44 of set 7 | kloulklubed\n",
      "Processing record 45 of set 7 | tautira\n",
      "Processing record 46 of set 7 | maceio\n",
      "Processing record 47 of set 7 | talnakh\n",
      "Processing record 48 of set 7 | kasempa\n",
      "Processing record 49 of set 7 | grand gaube\n",
      "Processing record 0 of set 8 | hendrina\n",
      "Processing record 1 of set 8 | poplar bluff\n",
      "Processing record 2 of set 8 | roald\n",
      "Processing record 3 of set 8 | taoudenni\n",
      "Processing record 4 of set 8 | nyurba\n",
      "Processing record 5 of set 8 | da nang\n",
      "Processing record 6 of set 8 | telemaco borba\n",
      "Processing record 7 of set 8 | opuwo\n",
      "Processing record 8 of set 8 | makakilo city\n",
      "Processing record 9 of set 8 | umm kaddadah\n",
      "Processing record 10 of set 8 | umzimvubu\n",
      "city not found. skipping...\n",
      "Processing record 11 of set 8 | dong hoi\n",
      "Processing record 12 of set 8 | olafsvik\n",
      "Processing record 13 of set 8 | khani\n",
      "Processing record 14 of set 8 | maniitsoq\n",
      "Processing record 15 of set 8 | charters towers\n",
      "Processing record 16 of set 8 | kunming\n",
      "Processing record 17 of set 8 | meyungs\n",
      "city not found. skipping...\n",
      "Processing record 18 of set 8 | portland\n",
      "Processing record 19 of set 8 | ambanja\n",
      "Processing record 20 of set 8 | boa vista\n",
      "Processing record 21 of set 8 | birao\n",
      "Processing record 22 of set 8 | pierre\n",
      "Processing record 23 of set 8 | alta floresta\n",
      "Processing record 24 of set 8 | mitsamiouli\n",
      "Processing record 25 of set 8 | lasa\n",
      "Processing record 26 of set 8 | soyo\n",
      "Processing record 27 of set 8 | porto novo\n"
     ]
    },
    {
     "name": "stdout",
     "output_type": "stream",
     "text": [
      "Processing record 28 of set 8 | wazzan\n",
      "city not found. skipping...\n",
      "Processing record 29 of set 8 | kingori\n",
      "Processing record 30 of set 8 | nabire\n",
      "Processing record 31 of set 8 | moose factory\n",
      "Processing record 32 of set 8 | aykhal\n",
      "Processing record 33 of set 8 | carballo\n",
      "Processing record 34 of set 8 | sakakah\n",
      "Processing record 35 of set 8 | egvekinot\n",
      "Processing record 36 of set 8 | phan thiet\n",
      "Processing record 37 of set 8 | jizan\n",
      "Processing record 38 of set 8 | shimoda\n",
      "Processing record 39 of set 8 | chegutu\n",
      "Processing record 40 of set 8 | palauig\n",
      "Processing record 41 of set 8 | beringovskiy\n",
      "Processing record 42 of set 8 | shatsk\n",
      "Processing record 43 of set 8 | bhinga\n",
      "Processing record 44 of set 8 | lahat\n",
      "Processing record 45 of set 8 | markova\n",
      "Processing record 46 of set 8 | asau\n",
      "Processing record 47 of set 8 | ahipara\n",
      "Processing record 48 of set 8 | morro bay\n",
      "Processing record 49 of set 8 | yambio\n",
      "Processing record 0 of set 9 | kamenskoye\n",
      "city not found. skipping...\n",
      "Processing record 1 of set 9 | at-bashi\n",
      "Processing record 2 of set 9 | galle\n",
      "Processing record 3 of set 9 | camargo\n",
      "Processing record 4 of set 9 | calabozo\n",
      "Processing record 5 of set 9 | san ramon\n",
      "Processing record 6 of set 9 | langxiang\n",
      "Processing record 7 of set 9 | payson\n",
      "Processing record 8 of set 9 | jamnah\n",
      "city not found. skipping...\n",
      "Processing record 9 of set 9 | gobabis\n",
      "Processing record 10 of set 9 | tlahualilo\n",
      "city not found. skipping...\n",
      "Processing record 11 of set 9 | pangoa\n",
      "Processing record 12 of set 9 | kollam\n",
      "Processing record 13 of set 9 | ponta delgada\n",
      "Processing record 14 of set 9 | samalaeulu\n",
      "city not found. skipping...\n",
      "Processing record 15 of set 9 | chifeng\n",
      "Processing record 16 of set 9 | grand-santi\n",
      "Processing record 17 of set 9 | katangli\n",
      "Processing record 18 of set 9 | sira\n",
      "Processing record 19 of set 9 | mogadishu\n",
      "Processing record 20 of set 9 | reyes\n",
      "Processing record 21 of set 9 | iquitos\n",
      "Processing record 22 of set 9 | meridian\n",
      "Processing record 23 of set 9 | husavik\n",
      "Processing record 24 of set 9 | yaita\n",
      "Processing record 25 of set 9 | constitucion\n",
      "Processing record 26 of set 9 | san carlos de bariloche\n",
      "Processing record 27 of set 9 | kawalu\n",
      "Processing record 28 of set 9 | paucartambo\n",
      "city not found. skipping...\n",
      "Processing record 29 of set 9 | clarence town\n",
      "Processing record 30 of set 9 | nishihara\n",
      "Processing record 31 of set 9 | muroto\n",
      "Processing record 32 of set 9 | wonosobo\n",
      "Processing record 33 of set 9 | darab\n",
      "Processing record 34 of set 9 | arlit\n",
      "Processing record 35 of set 9 | monrovia\n",
      "Processing record 36 of set 9 | college\n",
      "Processing record 37 of set 9 | noumea\n",
      "Processing record 38 of set 9 | vitim\n",
      "Processing record 39 of set 9 | kavieng\n",
      "Processing record 40 of set 9 | requena\n",
      "Processing record 41 of set 9 | tahe\n",
      "Processing record 42 of set 9 | hay river\n",
      "Processing record 43 of set 9 | sao joao da barra\n",
      "Processing record 44 of set 9 | lazaro cardenas\n",
      "Processing record 45 of set 9 | sorland\n",
      "Processing record 46 of set 9 | clyde river\n",
      "Processing record 47 of set 9 | broken hill\n",
      "Processing record 48 of set 9 | muravlenko\n",
      "Processing record 49 of set 9 | shakawe\n",
      "Processing record 0 of set 10 | kismayo\n",
      "Processing record 1 of set 10 | jojoima\n",
      "Processing record 2 of set 10 | alugan\n",
      "Processing record 3 of set 10 | los llanos de aridane\n",
      "Processing record 4 of set 10 | yinchuan\n",
      "Processing record 5 of set 10 | panaba\n",
      "Processing record 6 of set 10 | karratha\n",
      "Processing record 7 of set 10 | hulyaypole\n",
      "Processing record 8 of set 10 | gizo\n",
      "Processing record 9 of set 10 | argelia\n",
      "Processing record 10 of set 10 | mehamn\n",
      "Processing record 11 of set 10 | zharkent\n",
      "Processing record 12 of set 10 | doha\n",
      "Processing record 13 of set 10 | tabulbah\n",
      "city not found. skipping...\n",
      "Processing record 14 of set 10 | filadelfia\n",
      "Processing record 15 of set 10 | luderitz\n",
      "Processing record 16 of set 10 | uruzgan\n",
      "Processing record 17 of set 10 | juneau\n",
      "Processing record 18 of set 10 | otjimbingwe\n",
      "Processing record 19 of set 10 | laguna\n",
      "Processing record 20 of set 10 | xuddur\n",
      "Processing record 21 of set 10 | yenotayevka\n",
      "Processing record 22 of set 10 | lavrentiya\n",
      "Processing record 23 of set 10 | baherden\n",
      "Processing record 24 of set 10 | ust-omchug\n",
      "Processing record 25 of set 10 | keetmanshoop\n",
      "Processing record 26 of set 10 | aklavik\n",
      "Processing record 27 of set 10 | presidente epitacio\n",
      "Processing record 28 of set 10 | ericeira\n",
      "Processing record 29 of set 10 | omboue\n",
      "Processing record 30 of set 10 | sainte-anne-des-monts\n",
      "Processing record 31 of set 10 | caravelas\n",
      "Processing record 32 of set 10 | deputatskiy\n",
      "Processing record 33 of set 10 | bryan\n",
      "Processing record 34 of set 10 | pompeu\n",
      "Processing record 35 of set 10 | jerantut\n",
      "Processing record 36 of set 10 | bambanglipuro\n",
      "Processing record 37 of set 10 | pangnirtung\n",
      "Processing record 38 of set 10 | bozdar\n",
      "Processing record 39 of set 10 | hunza\n",
      "city not found. skipping...\n",
      "Processing record 40 of set 10 | sechura\n",
      "Processing record 41 of set 10 | plettenberg bay\n",
      "Processing record 42 of set 10 | coihueco\n",
      "Processing record 43 of set 10 | alibag\n",
      "Processing record 44 of set 10 | ambilobe\n",
      "Processing record 45 of set 10 | havelian\n",
      "Processing record 46 of set 10 | smithers\n",
      "Processing record 47 of set 10 | sioux lookout\n",
      "Processing record 48 of set 10 | flinders\n",
      "Processing record 49 of set 10 | polson\n",
      "Processing record 0 of set 11 | farafangana\n",
      "Processing record 1 of set 11 | kulu\n",
      "Processing record 2 of set 11 | zhangye\n",
      "Processing record 3 of set 11 | sztum\n",
      "Processing record 4 of set 11 | ascension\n",
      "Processing record 5 of set 11 | san cristobal\n",
      "Processing record 6 of set 11 | beyneu\n",
      "Processing record 7 of set 11 | salalah\n",
      "Processing record 8 of set 11 | ngukurr\n",
      "city not found. skipping...\n",
      "Processing record 9 of set 11 | weligama\n",
      "Processing record 10 of set 11 | pangody\n",
      "Processing record 11 of set 11 | comarapa\n",
      "Processing record 12 of set 11 | zaraza\n",
      "Processing record 13 of set 11 | posadas\n",
      "Processing record 14 of set 11 | beaverlodge\n",
      "Processing record 15 of set 11 | dakoro\n",
      "Processing record 16 of set 11 | jieshi\n",
      "Processing record 17 of set 11 | tartagal\n",
      "Processing record 18 of set 11 | faya\n",
      "Processing record 19 of set 11 | tepatepec\n",
      "Processing record 20 of set 11 | trinidad\n",
      "Processing record 21 of set 11 | margate\n",
      "Processing record 22 of set 11 | mattru\n",
      "Processing record 23 of set 11 | qaqortoq\n",
      "Processing record 24 of set 11 | stornoway\n",
      "Processing record 25 of set 11 | yumen\n",
      "Processing record 26 of set 11 | sakaiminato\n",
      "Processing record 27 of set 11 | kansk\n",
      "Processing record 28 of set 11 | coffs harbour\n",
      "Processing record 29 of set 11 | hualmay\n",
      "Processing record 30 of set 11 | fairfield\n",
      "Processing record 31 of set 11 | mahebourg\n",
      "Processing record 32 of set 11 | hvolsvollur\n",
      "Processing record 33 of set 11 | shenjiamen\n",
      "Processing record 34 of set 11 | pasighat\n",
      "Processing record 35 of set 11 | kenai\n",
      "Processing record 36 of set 11 | la asuncion\n",
      "Processing record 37 of set 11 | bandarbeyla\n",
      "Processing record 38 of set 11 | mareeba\n",
      "Processing record 39 of set 11 | lomovka\n",
      "Processing record 40 of set 11 | nhulunbuy\n",
      "Processing record 41 of set 11 | namibe\n",
      "Processing record 42 of set 11 | bundaberg\n",
      "Processing record 43 of set 11 | ginir\n",
      "Processing record 44 of set 11 | camacupa\n",
      "Processing record 45 of set 11 | tyrma\n",
      "Processing record 46 of set 11 | sept-iles\n",
      "Processing record 47 of set 11 | hokitika\n",
      "Processing record 48 of set 11 | kamaishi\n",
      "Processing record 49 of set 11 | geraldton\n",
      "Processing record 0 of set 12 | sampit\n",
      "Processing record 1 of set 12 | tiznit\n",
      "Processing record 2 of set 12 | cururupu\n",
      "Processing record 3 of set 12 | bonfim\n",
      "Processing record 4 of set 12 | jutai\n",
      "Processing record 5 of set 12 | albacete\n",
      "Processing record 6 of set 12 | zaterechnyy\n",
      "Processing record 7 of set 12 | aquiraz\n",
      "Processing record 8 of set 12 | umm lajj\n",
      "Processing record 9 of set 12 | siilinjarvi\n",
      "Processing record 10 of set 12 | chuzhou\n",
      "Processing record 11 of set 12 | umm durman\n",
      "city not found. skipping...\n",
      "Processing record 12 of set 12 | petropavlovka\n",
      "Processing record 13 of set 12 | mayumba\n",
      "Processing record 14 of set 12 | port huron\n",
      "Processing record 15 of set 12 | pokhara\n",
      "Processing record 16 of set 12 | virginia beach\n",
      "Processing record 17 of set 12 | muisne\n",
      "Processing record 18 of set 12 | tarudant\n",
      "city not found. skipping...\n",
      "Processing record 19 of set 12 | tacoronte\n"
     ]
    },
    {
     "name": "stdout",
     "output_type": "stream",
     "text": [
      "Processing record 20 of set 12 | kazerun\n",
      "Processing record 21 of set 12 | vredendal\n",
      "Processing record 22 of set 12 | trelew\n",
      "Processing record 23 of set 12 | tiarei\n",
      "Processing record 24 of set 12 | tumarbong\n",
      "Processing record 25 of set 12 | ukiah\n",
      "Processing record 26 of set 12 | tabou\n",
      "Processing record 27 of set 12 | napanee\n",
      "Processing record 28 of set 12 | tungkang\n",
      "city not found. skipping...\n",
      "Processing record 29 of set 12 | caxito\n",
      "Processing record 30 of set 12 | caucasia\n",
      "Processing record 31 of set 12 | eyl\n",
      "Processing record 32 of set 12 | bell ville\n",
      "Processing record 33 of set 12 | soria\n",
      "Processing record 34 of set 12 | itabira\n",
      "Processing record 35 of set 12 | zaprudnya\n",
      "Processing record 36 of set 12 | polewali\n",
      "Processing record 37 of set 12 | qibili\n",
      "city not found. skipping...\n",
      "Processing record 38 of set 12 | macau\n",
      "Processing record 39 of set 12 | cutervo\n",
      "Processing record 40 of set 12 | galveston\n",
      "Processing record 41 of set 12 | tilichiki\n",
      "Processing record 42 of set 12 | upington\n",
      "Processing record 43 of set 12 | santiago\n",
      "Processing record 44 of set 12 | karak\n",
      "Processing record 45 of set 12 | subtanjalla\n",
      "Processing record 46 of set 12 | xingyi\n",
      "Processing record 47 of set 12 | iwanai\n",
      "Processing record 48 of set 12 | san vicente\n",
      "Processing record 49 of set 12 | breyten\n",
      "Processing record 0 of set 13 | uberaba\n",
      "Processing record 1 of set 13 | kedrovyy\n",
      "Processing record 2 of set 13 | gunupur\n",
      "Processing record 3 of set 13 | vanderhoof\n",
      "Processing record 4 of set 13 | palabuhanratu\n",
      "city not found. skipping...\n",
      "Processing record 5 of set 13 | cotonou\n",
      "Processing record 6 of set 13 | abapo\n",
      "Processing record 7 of set 13 | gallup\n",
      "Processing record 8 of set 13 | kenora\n",
      "-------------------------------\n",
      "data retrieved                 \n",
      "-------------------------------\n"
     ]
    }
   ],
   "source": [
    "# perform weather check using series of API calls\n",
    "\n",
    "# set list for loop call:\n",
    "city_data=[]\n",
    "city_lat=[]\n",
    "city_lng=[]\n",
    "city_max_temp=[]\n",
    "city_humidity=[]\n",
    "city_clouds=[]\n",
    "city_wind=[]\n",
    "city_country=[]\n",
    "city_date=[]\n",
    "\n",
    "# print to log\n",
    "print(\"commencing data retrieval      \")\n",
    "print('-------------------------------')\n",
    "\n",
    "# create counter for print log\n",
    "record_count = 1 \n",
    "set_count = 1\n",
    "\n",
    "#loop through cities in list and perform request\n",
    "for i, city in enumerate(cities):\n",
    "    city_url = query_url + city\n",
    "    \n",
    "    if (i % 50 == 0 and i >= 50):\n",
    "        set_count += 1\n",
    "        record_count = 0\n",
    "#   print records with set numbers and counters\n",
    "    print('Processing record %s of set %s | %s' % (record_count, set_count, city))\n",
    "    # add 1 to the record count for printing\n",
    "    record_count += 1\n",
    "    \n",
    "    try:\n",
    "        # make request and store in json\n",
    "        response = requests.get(city_url).json()\n",
    "        \n",
    "        city_data.append(response['name'])\n",
    "        city_lat.append(response['coord']['lat'])\n",
    "        city_lng.append(response['coord']['lon'])\n",
    "        city_max_temp.append(response['main']['temp_max'])\n",
    "        city_humidity.append(response['main']['humidity'])\n",
    "        city_clouds.append(response['clouds']['all'])\n",
    "        city_wind.append(response['wind']['speed'])\n",
    "        city_country.append(response['sys']['country'])\n",
    "        city_date.append(response['dt'])\n",
    "        \n",
    "        # sleep for 2 seconds to prevent api from being locked\n",
    "        time.sleep(2)\n",
    "        \n",
    "    # handle exceptions for error, skip city\n",
    "    except:\n",
    "        print('city not found. skipping...')\n",
    "        pass\n",
    "    \n",
    "print('-------------------------------')\n",
    "print('data retrieved                 ')\n",
    "print('-------------------------------')"
   ]
  },
  {
   "cell_type": "markdown",
   "id": "5b887a8d",
   "metadata": {},
   "source": [
    "# Convert raw data to DataFrame"
   ]
  },
  {
   "cell_type": "code",
   "execution_count": 6,
   "id": "5e3d9875",
   "metadata": {},
   "outputs": [
    {
     "data": {
      "text/plain": [
       "City          566\n",
       "Lat           566\n",
       "Lng           566\n",
       "Max Temp      566\n",
       "Humidity      566\n",
       "Cloudiness    566\n",
       "Wind Speed    566\n",
       "Country       566\n",
       "Date          566\n",
       "dtype: int64"
      ]
     },
     "execution_count": 6,
     "metadata": {},
     "output_type": "execute_result"
    }
   ],
   "source": [
    "# create dataframe for cities data\n",
    "city_data_df = {\n",
    "    'City': city_data,\n",
    "    'Lat': city_lat,\n",
    "    'Lng': city_lng,\n",
    "    'Max Temp': city_max_temp,\n",
    "    'Humidity': city_humidity,\n",
    "    'Cloudiness': city_clouds,\n",
    "    'Wind Speed': city_wind,\n",
    "    'Country': city_country,\n",
    "    'Date': city_date\n",
    "}\n",
    "\n",
    "weather_df = pd.DataFrame(city_data_df)\n",
    "weather_df.count()"
   ]
  },
  {
   "cell_type": "code",
   "execution_count": 7,
   "id": "5777ac54",
   "metadata": {},
   "outputs": [
    {
     "data": {
      "text/html": [
       "<div>\n",
       "<style scoped>\n",
       "    .dataframe tbody tr th:only-of-type {\n",
       "        vertical-align: middle;\n",
       "    }\n",
       "\n",
       "    .dataframe tbody tr th {\n",
       "        vertical-align: top;\n",
       "    }\n",
       "\n",
       "    .dataframe thead th {\n",
       "        text-align: right;\n",
       "    }\n",
       "</style>\n",
       "<table border=\"1\" class=\"dataframe\">\n",
       "  <thead>\n",
       "    <tr style=\"text-align: right;\">\n",
       "      <th></th>\n",
       "      <th>City</th>\n",
       "      <th>Lat</th>\n",
       "      <th>Lng</th>\n",
       "      <th>Max Temp</th>\n",
       "      <th>Humidity</th>\n",
       "      <th>Cloudiness</th>\n",
       "      <th>Wind Speed</th>\n",
       "      <th>Country</th>\n",
       "      <th>Date</th>\n",
       "    </tr>\n",
       "  </thead>\n",
       "  <tbody>\n",
       "    <tr>\n",
       "      <th>0</th>\n",
       "      <td>Grindavik</td>\n",
       "      <td>63.8424</td>\n",
       "      <td>-22.4338</td>\n",
       "      <td>52.27</td>\n",
       "      <td>71</td>\n",
       "      <td>75</td>\n",
       "      <td>9.22</td>\n",
       "      <td>IS</td>\n",
       "      <td>1660414090</td>\n",
       "    </tr>\n",
       "    <tr>\n",
       "      <th>1</th>\n",
       "      <td>Kapaa</td>\n",
       "      <td>22.0752</td>\n",
       "      <td>-159.3190</td>\n",
       "      <td>78.78</td>\n",
       "      <td>82</td>\n",
       "      <td>40</td>\n",
       "      <td>10.36</td>\n",
       "      <td>US</td>\n",
       "      <td>1660414092</td>\n",
       "    </tr>\n",
       "    <tr>\n",
       "      <th>2</th>\n",
       "      <td>Yeppoon</td>\n",
       "      <td>-23.1333</td>\n",
       "      <td>150.7333</td>\n",
       "      <td>56.98</td>\n",
       "      <td>89</td>\n",
       "      <td>42</td>\n",
       "      <td>4.38</td>\n",
       "      <td>AU</td>\n",
       "      <td>1660413804</td>\n",
       "    </tr>\n",
       "    <tr>\n",
       "      <th>3</th>\n",
       "      <td>George Town</td>\n",
       "      <td>5.4112</td>\n",
       "      <td>100.3354</td>\n",
       "      <td>80.89</td>\n",
       "      <td>82</td>\n",
       "      <td>20</td>\n",
       "      <td>3.44</td>\n",
       "      <td>MY</td>\n",
       "      <td>1660413605</td>\n",
       "    </tr>\n",
       "    <tr>\n",
       "      <th>4</th>\n",
       "      <td>Jamestown</td>\n",
       "      <td>42.0970</td>\n",
       "      <td>-79.2353</td>\n",
       "      <td>79.02</td>\n",
       "      <td>35</td>\n",
       "      <td>20</td>\n",
       "      <td>10.36</td>\n",
       "      <td>US</td>\n",
       "      <td>1660413741</td>\n",
       "    </tr>\n",
       "  </tbody>\n",
       "</table>\n",
       "</div>"
      ],
      "text/plain": [
       "          City      Lat       Lng  Max Temp  Humidity  Cloudiness  Wind Speed  \\\n",
       "0    Grindavik  63.8424  -22.4338     52.27        71          75        9.22   \n",
       "1        Kapaa  22.0752 -159.3190     78.78        82          40       10.36   \n",
       "2      Yeppoon -23.1333  150.7333     56.98        89          42        4.38   \n",
       "3  George Town   5.4112  100.3354     80.89        82          20        3.44   \n",
       "4    Jamestown  42.0970  -79.2353     79.02        35          20       10.36   \n",
       "\n",
       "  Country        Date  \n",
       "0      IS  1660414090  \n",
       "1      US  1660414092  \n",
       "2      AU  1660413804  \n",
       "3      MY  1660413605  \n",
       "4      US  1660413741  "
      ]
     },
     "execution_count": 7,
     "metadata": {},
     "output_type": "execute_result"
    }
   ],
   "source": [
    "weather_df.head()"
   ]
  },
  {
   "cell_type": "code",
   "execution_count": 8,
   "id": "40434f9c",
   "metadata": {},
   "outputs": [],
   "source": [
    "weather_df.to_csv(output_data_file, index=False, header=True)"
   ]
  },
  {
   "cell_type": "code",
   "execution_count": 9,
   "id": "6f40c5d3",
   "metadata": {},
   "outputs": [
    {
     "data": {
      "text/html": [
       "<div>\n",
       "<style scoped>\n",
       "    .dataframe tbody tr th:only-of-type {\n",
       "        vertical-align: middle;\n",
       "    }\n",
       "\n",
       "    .dataframe tbody tr th {\n",
       "        vertical-align: top;\n",
       "    }\n",
       "\n",
       "    .dataframe thead th {\n",
       "        text-align: right;\n",
       "    }\n",
       "</style>\n",
       "<table border=\"1\" class=\"dataframe\">\n",
       "  <thead>\n",
       "    <tr style=\"text-align: right;\">\n",
       "      <th></th>\n",
       "      <th>Lat</th>\n",
       "      <th>Lng</th>\n",
       "      <th>Max Temp</th>\n",
       "      <th>Humidity</th>\n",
       "      <th>Cloudiness</th>\n",
       "      <th>Wind Speed</th>\n",
       "      <th>Date</th>\n",
       "    </tr>\n",
       "  </thead>\n",
       "  <tbody>\n",
       "    <tr>\n",
       "      <th>count</th>\n",
       "      <td>566.000000</td>\n",
       "      <td>566.000000</td>\n",
       "      <td>566.000000</td>\n",
       "      <td>566.000000</td>\n",
       "      <td>566.000000</td>\n",
       "      <td>566.000000</td>\n",
       "      <td>5.660000e+02</td>\n",
       "    </tr>\n",
       "    <tr>\n",
       "      <th>mean</th>\n",
       "      <td>18.360279</td>\n",
       "      <td>14.929985</td>\n",
       "      <td>70.471184</td>\n",
       "      <td>69.104240</td>\n",
       "      <td>56.916961</td>\n",
       "      <td>8.095177</td>\n",
       "      <td>1.660415e+09</td>\n",
       "    </tr>\n",
       "    <tr>\n",
       "      <th>std</th>\n",
       "      <td>33.154709</td>\n",
       "      <td>91.019859</td>\n",
       "      <td>14.419436</td>\n",
       "      <td>22.302778</td>\n",
       "      <td>37.497023</td>\n",
       "      <td>5.605054</td>\n",
       "      <td>4.837477e+02</td>\n",
       "    </tr>\n",
       "    <tr>\n",
       "      <th>min</th>\n",
       "      <td>-54.800000</td>\n",
       "      <td>-179.166700</td>\n",
       "      <td>32.900000</td>\n",
       "      <td>8.000000</td>\n",
       "      <td>0.000000</td>\n",
       "      <td>0.000000</td>\n",
       "      <td>1.660414e+09</td>\n",
       "    </tr>\n",
       "    <tr>\n",
       "      <th>25%</th>\n",
       "      <td>-8.550550</td>\n",
       "      <td>-65.051725</td>\n",
       "      <td>58.922500</td>\n",
       "      <td>54.250000</td>\n",
       "      <td>20.000000</td>\n",
       "      <td>4.012500</td>\n",
       "      <td>1.660414e+09</td>\n",
       "    </tr>\n",
       "    <tr>\n",
       "      <th>50%</th>\n",
       "      <td>20.400100</td>\n",
       "      <td>19.584650</td>\n",
       "      <td>73.230000</td>\n",
       "      <td>74.000000</td>\n",
       "      <td>64.500000</td>\n",
       "      <td>6.800000</td>\n",
       "      <td>1.660415e+09</td>\n",
       "    </tr>\n",
       "    <tr>\n",
       "      <th>75%</th>\n",
       "      <td>45.471725</td>\n",
       "      <td>95.621450</td>\n",
       "      <td>80.587500</td>\n",
       "      <td>87.000000</td>\n",
       "      <td>95.750000</td>\n",
       "      <td>11.130000</td>\n",
       "      <td>1.660415e+09</td>\n",
       "    </tr>\n",
       "    <tr>\n",
       "      <th>max</th>\n",
       "      <td>78.218600</td>\n",
       "      <td>179.316700</td>\n",
       "      <td>109.980000</td>\n",
       "      <td>100.000000</td>\n",
       "      <td>100.000000</td>\n",
       "      <td>31.230000</td>\n",
       "      <td>1.660415e+09</td>\n",
       "    </tr>\n",
       "  </tbody>\n",
       "</table>\n",
       "</div>"
      ],
      "text/plain": [
       "              Lat         Lng    Max Temp    Humidity  Cloudiness  Wind Speed  \\\n",
       "count  566.000000  566.000000  566.000000  566.000000  566.000000  566.000000   \n",
       "mean    18.360279   14.929985   70.471184   69.104240   56.916961    8.095177   \n",
       "std     33.154709   91.019859   14.419436   22.302778   37.497023    5.605054   \n",
       "min    -54.800000 -179.166700   32.900000    8.000000    0.000000    0.000000   \n",
       "25%     -8.550550  -65.051725   58.922500   54.250000   20.000000    4.012500   \n",
       "50%     20.400100   19.584650   73.230000   74.000000   64.500000    6.800000   \n",
       "75%     45.471725   95.621450   80.587500   87.000000   95.750000   11.130000   \n",
       "max     78.218600  179.316700  109.980000  100.000000  100.000000   31.230000   \n",
       "\n",
       "               Date  \n",
       "count  5.660000e+02  \n",
       "mean   1.660415e+09  \n",
       "std    4.837477e+02  \n",
       "min    1.660414e+09  \n",
       "25%    1.660414e+09  \n",
       "50%    1.660415e+09  \n",
       "75%    1.660415e+09  \n",
       "max    1.660415e+09  "
      ]
     },
     "execution_count": 9,
     "metadata": {},
     "output_type": "execute_result"
    }
   ],
   "source": [
    "weather_df.describe()"
   ]
  },
  {
   "cell_type": "markdown",
   "id": "ba50acd5",
   "metadata": {},
   "source": [
    "# Inspect data and remove cities where humidity > 100%"
   ]
  },
  {
   "cell_type": "code",
   "execution_count": 11,
   "id": "0cd9ce62",
   "metadata": {},
   "outputs": [
    {
     "data": {
      "text/plain": [
       "8"
      ]
     },
     "execution_count": 11,
     "metadata": {},
     "output_type": "execute_result"
    }
   ],
   "source": [
    "weather_df.loc[weather_df['Humidity'] >= 100]['Humidity'].count()"
   ]
  },
  {
   "cell_type": "code",
   "execution_count": 12,
   "id": "b28bd80b",
   "metadata": {},
   "outputs": [],
   "source": [
    "cleaned_weather_df = weather_df.loc[weather_df['Humidity'] < 100]"
   ]
  },
  {
   "cell_type": "code",
   "execution_count": 14,
   "id": "8655045b",
   "metadata": {},
   "outputs": [
    {
     "data": {
      "text/plain": [
       "558"
      ]
     },
     "execution_count": 14,
     "metadata": {},
     "output_type": "execute_result"
    }
   ],
   "source": [
    "len(cleaned_weather_df)"
   ]
  },
  {
   "cell_type": "code",
   "execution_count": 15,
   "id": "4fb9aa77",
   "metadata": {},
   "outputs": [
    {
     "data": {
      "text/html": [
       "<div>\n",
       "<style scoped>\n",
       "    .dataframe tbody tr th:only-of-type {\n",
       "        vertical-align: middle;\n",
       "    }\n",
       "\n",
       "    .dataframe tbody tr th {\n",
       "        vertical-align: top;\n",
       "    }\n",
       "\n",
       "    .dataframe thead th {\n",
       "        text-align: right;\n",
       "    }\n",
       "</style>\n",
       "<table border=\"1\" class=\"dataframe\">\n",
       "  <thead>\n",
       "    <tr style=\"text-align: right;\">\n",
       "      <th></th>\n",
       "      <th>Lat</th>\n",
       "      <th>Lng</th>\n",
       "      <th>Max Temp</th>\n",
       "      <th>Humidity</th>\n",
       "      <th>Cloudiness</th>\n",
       "      <th>Wind Speed</th>\n",
       "      <th>Date</th>\n",
       "    </tr>\n",
       "  </thead>\n",
       "  <tbody>\n",
       "    <tr>\n",
       "      <th>count</th>\n",
       "      <td>558.000000</td>\n",
       "      <td>558.000000</td>\n",
       "      <td>558.000000</td>\n",
       "      <td>558.000000</td>\n",
       "      <td>558.000000</td>\n",
       "      <td>558.000000</td>\n",
       "      <td>5.580000e+02</td>\n",
       "    </tr>\n",
       "    <tr>\n",
       "      <th>mean</th>\n",
       "      <td>18.203857</td>\n",
       "      <td>14.588206</td>\n",
       "      <td>70.591290</td>\n",
       "      <td>68.661290</td>\n",
       "      <td>56.720430</td>\n",
       "      <td>8.123047</td>\n",
       "      <td>1.660415e+09</td>\n",
       "    </tr>\n",
       "    <tr>\n",
       "      <th>std</th>\n",
       "      <td>33.117552</td>\n",
       "      <td>90.581136</td>\n",
       "      <td>14.413495</td>\n",
       "      <td>22.150659</td>\n",
       "      <td>37.453991</td>\n",
       "      <td>5.624149</td>\n",
       "      <td>4.847352e+02</td>\n",
       "    </tr>\n",
       "    <tr>\n",
       "      <th>min</th>\n",
       "      <td>-54.800000</td>\n",
       "      <td>-179.166700</td>\n",
       "      <td>32.900000</td>\n",
       "      <td>8.000000</td>\n",
       "      <td>0.000000</td>\n",
       "      <td>0.000000</td>\n",
       "      <td>1.660414e+09</td>\n",
       "    </tr>\n",
       "    <tr>\n",
       "      <th>25%</th>\n",
       "      <td>-8.720325</td>\n",
       "      <td>-65.051725</td>\n",
       "      <td>58.995000</td>\n",
       "      <td>54.000000</td>\n",
       "      <td>20.000000</td>\n",
       "      <td>4.012500</td>\n",
       "      <td>1.660414e+09</td>\n",
       "    </tr>\n",
       "    <tr>\n",
       "      <th>50%</th>\n",
       "      <td>20.277600</td>\n",
       "      <td>18.998700</td>\n",
       "      <td>73.310000</td>\n",
       "      <td>74.000000</td>\n",
       "      <td>64.000000</td>\n",
       "      <td>6.865000</td>\n",
       "      <td>1.660415e+09</td>\n",
       "    </tr>\n",
       "    <tr>\n",
       "      <th>75%</th>\n",
       "      <td>45.192700</td>\n",
       "      <td>95.183300</td>\n",
       "      <td>80.630000</td>\n",
       "      <td>87.000000</td>\n",
       "      <td>95.000000</td>\n",
       "      <td>11.170000</td>\n",
       "      <td>1.660415e+09</td>\n",
       "    </tr>\n",
       "    <tr>\n",
       "      <th>max</th>\n",
       "      <td>78.218600</td>\n",
       "      <td>179.316700</td>\n",
       "      <td>109.980000</td>\n",
       "      <td>99.000000</td>\n",
       "      <td>100.000000</td>\n",
       "      <td>31.230000</td>\n",
       "      <td>1.660415e+09</td>\n",
       "    </tr>\n",
       "  </tbody>\n",
       "</table>\n",
       "</div>"
      ],
      "text/plain": [
       "              Lat         Lng    Max Temp    Humidity  Cloudiness  Wind Speed  \\\n",
       "count  558.000000  558.000000  558.000000  558.000000  558.000000  558.000000   \n",
       "mean    18.203857   14.588206   70.591290   68.661290   56.720430    8.123047   \n",
       "std     33.117552   90.581136   14.413495   22.150659   37.453991    5.624149   \n",
       "min    -54.800000 -179.166700   32.900000    8.000000    0.000000    0.000000   \n",
       "25%     -8.720325  -65.051725   58.995000   54.000000   20.000000    4.012500   \n",
       "50%     20.277600   18.998700   73.310000   74.000000   64.000000    6.865000   \n",
       "75%     45.192700   95.183300   80.630000   87.000000   95.000000   11.170000   \n",
       "max     78.218600  179.316700  109.980000   99.000000  100.000000   31.230000   \n",
       "\n",
       "               Date  \n",
       "count  5.580000e+02  \n",
       "mean   1.660415e+09  \n",
       "std    4.847352e+02  \n",
       "min    1.660414e+09  \n",
       "25%    1.660414e+09  \n",
       "50%    1.660415e+09  \n",
       "75%    1.660415e+09  \n",
       "max    1.660415e+09  "
      ]
     },
     "execution_count": 15,
     "metadata": {},
     "output_type": "execute_result"
    }
   ],
   "source": [
    "cleaned_weather_df.describe()"
   ]
  },
  {
   "cell_type": "code",
   "execution_count": 17,
   "id": "d509d91e",
   "metadata": {},
   "outputs": [
    {
     "data": {
      "text/plain": [
       "Int64Index([], dtype='int64')"
      ]
     },
     "execution_count": 17,
     "metadata": {},
     "output_type": "execute_result"
    }
   ],
   "source": [
    "# retrive indics of cities with humidity over 100%\n",
    "over_100 = weather_df[weather_df.Humidity > 100].index\n",
    "over_100"
   ]
  },
  {
   "cell_type": "code",
   "execution_count": 19,
   "id": "0305c2d7",
   "metadata": {},
   "outputs": [
    {
     "data": {
      "text/html": [
       "<div>\n",
       "<style scoped>\n",
       "    .dataframe tbody tr th:only-of-type {\n",
       "        vertical-align: middle;\n",
       "    }\n",
       "\n",
       "    .dataframe tbody tr th {\n",
       "        vertical-align: top;\n",
       "    }\n",
       "\n",
       "    .dataframe thead th {\n",
       "        text-align: right;\n",
       "    }\n",
       "</style>\n",
       "<table border=\"1\" class=\"dataframe\">\n",
       "  <thead>\n",
       "    <tr style=\"text-align: right;\">\n",
       "      <th></th>\n",
       "      <th>City</th>\n",
       "      <th>Lat</th>\n",
       "      <th>Lng</th>\n",
       "      <th>Max Temp</th>\n",
       "      <th>Humidity</th>\n",
       "      <th>Cloudiness</th>\n",
       "      <th>Wind Speed</th>\n",
       "      <th>Country</th>\n",
       "      <th>Date</th>\n",
       "    </tr>\n",
       "  </thead>\n",
       "  <tbody>\n",
       "    <tr>\n",
       "      <th>0</th>\n",
       "      <td>Grindavik</td>\n",
       "      <td>63.8424</td>\n",
       "      <td>-22.4338</td>\n",
       "      <td>52.27</td>\n",
       "      <td>71</td>\n",
       "      <td>75</td>\n",
       "      <td>9.22</td>\n",
       "      <td>IS</td>\n",
       "      <td>1660414090</td>\n",
       "    </tr>\n",
       "    <tr>\n",
       "      <th>1</th>\n",
       "      <td>Kapaa</td>\n",
       "      <td>22.0752</td>\n",
       "      <td>-159.3190</td>\n",
       "      <td>78.78</td>\n",
       "      <td>82</td>\n",
       "      <td>40</td>\n",
       "      <td>10.36</td>\n",
       "      <td>US</td>\n",
       "      <td>1660414092</td>\n",
       "    </tr>\n",
       "    <tr>\n",
       "      <th>2</th>\n",
       "      <td>Yeppoon</td>\n",
       "      <td>-23.1333</td>\n",
       "      <td>150.7333</td>\n",
       "      <td>56.98</td>\n",
       "      <td>89</td>\n",
       "      <td>42</td>\n",
       "      <td>4.38</td>\n",
       "      <td>AU</td>\n",
       "      <td>1660413804</td>\n",
       "    </tr>\n",
       "    <tr>\n",
       "      <th>3</th>\n",
       "      <td>George Town</td>\n",
       "      <td>5.4112</td>\n",
       "      <td>100.3354</td>\n",
       "      <td>80.89</td>\n",
       "      <td>82</td>\n",
       "      <td>20</td>\n",
       "      <td>3.44</td>\n",
       "      <td>MY</td>\n",
       "      <td>1660413605</td>\n",
       "    </tr>\n",
       "    <tr>\n",
       "      <th>4</th>\n",
       "      <td>Jamestown</td>\n",
       "      <td>42.0970</td>\n",
       "      <td>-79.2353</td>\n",
       "      <td>79.02</td>\n",
       "      <td>35</td>\n",
       "      <td>20</td>\n",
       "      <td>10.36</td>\n",
       "      <td>US</td>\n",
       "      <td>1660413741</td>\n",
       "    </tr>\n",
       "    <tr>\n",
       "      <th>...</th>\n",
       "      <td>...</td>\n",
       "      <td>...</td>\n",
       "      <td>...</td>\n",
       "      <td>...</td>\n",
       "      <td>...</td>\n",
       "      <td>...</td>\n",
       "      <td>...</td>\n",
       "      <td>...</td>\n",
       "      <td>...</td>\n",
       "    </tr>\n",
       "    <tr>\n",
       "      <th>561</th>\n",
       "      <td>Vanderhoof</td>\n",
       "      <td>54.0166</td>\n",
       "      <td>-124.0198</td>\n",
       "      <td>67.12</td>\n",
       "      <td>69</td>\n",
       "      <td>99</td>\n",
       "      <td>7.47</td>\n",
       "      <td>CA</td>\n",
       "      <td>1660415103</td>\n",
       "    </tr>\n",
       "    <tr>\n",
       "      <th>562</th>\n",
       "      <td>Cotonou</td>\n",
       "      <td>6.3654</td>\n",
       "      <td>2.4183</td>\n",
       "      <td>76.98</td>\n",
       "      <td>88</td>\n",
       "      <td>20</td>\n",
       "      <td>12.66</td>\n",
       "      <td>BJ</td>\n",
       "      <td>1660415403</td>\n",
       "    </tr>\n",
       "    <tr>\n",
       "      <th>563</th>\n",
       "      <td>Abapó</td>\n",
       "      <td>-18.8333</td>\n",
       "      <td>-63.4667</td>\n",
       "      <td>84.97</td>\n",
       "      <td>29</td>\n",
       "      <td>41</td>\n",
       "      <td>6.55</td>\n",
       "      <td>BO</td>\n",
       "      <td>1660415406</td>\n",
       "    </tr>\n",
       "    <tr>\n",
       "      <th>564</th>\n",
       "      <td>Gallup</td>\n",
       "      <td>35.5281</td>\n",
       "      <td>-108.7426</td>\n",
       "      <td>81.01</td>\n",
       "      <td>37</td>\n",
       "      <td>0</td>\n",
       "      <td>9.22</td>\n",
       "      <td>US</td>\n",
       "      <td>1660415170</td>\n",
       "    </tr>\n",
       "    <tr>\n",
       "      <th>565</th>\n",
       "      <td>Kenora</td>\n",
       "      <td>49.8167</td>\n",
       "      <td>-94.4337</td>\n",
       "      <td>77.97</td>\n",
       "      <td>50</td>\n",
       "      <td>20</td>\n",
       "      <td>4.61</td>\n",
       "      <td>CA</td>\n",
       "      <td>1660415410</td>\n",
       "    </tr>\n",
       "  </tbody>\n",
       "</table>\n",
       "<p>566 rows × 9 columns</p>\n",
       "</div>"
      ],
      "text/plain": [
       "            City      Lat       Lng  Max Temp  Humidity  Cloudiness  \\\n",
       "0      Grindavik  63.8424  -22.4338     52.27        71          75   \n",
       "1          Kapaa  22.0752 -159.3190     78.78        82          40   \n",
       "2        Yeppoon -23.1333  150.7333     56.98        89          42   \n",
       "3    George Town   5.4112  100.3354     80.89        82          20   \n",
       "4      Jamestown  42.0970  -79.2353     79.02        35          20   \n",
       "..           ...      ...       ...       ...       ...         ...   \n",
       "561   Vanderhoof  54.0166 -124.0198     67.12        69          99   \n",
       "562      Cotonou   6.3654    2.4183     76.98        88          20   \n",
       "563        Abapó -18.8333  -63.4667     84.97        29          41   \n",
       "564       Gallup  35.5281 -108.7426     81.01        37           0   \n",
       "565       Kenora  49.8167  -94.4337     77.97        50          20   \n",
       "\n",
       "     Wind Speed Country        Date  \n",
       "0          9.22      IS  1660414090  \n",
       "1         10.36      US  1660414092  \n",
       "2          4.38      AU  1660413804  \n",
       "3          3.44      MY  1660413605  \n",
       "4         10.36      US  1660413741  \n",
       "..          ...     ...         ...  \n",
       "561        7.47      CA  1660415103  \n",
       "562       12.66      BJ  1660415403  \n",
       "563        6.55      BO  1660415406  \n",
       "564        9.22      US  1660415170  \n",
       "565        4.61      CA  1660415410  \n",
       "\n",
       "[566 rows x 9 columns]"
      ]
     },
     "execution_count": 19,
     "metadata": {},
     "output_type": "execute_result"
    }
   ],
   "source": [
    "# Make new DataFrame equal to city data to drop all humidity outliers by index\n",
    "cleaned_city_data = weather_df\n",
    "for x in over_100:\n",
    "    cleaned_city_data = weather_df.drop([x])\n",
    "cleaned_city_data"
   ]
  },
  {
   "cell_type": "code",
   "execution_count": 22,
   "id": "cf465c31",
   "metadata": {},
   "outputs": [],
   "source": [
    "# extract relevant fields from cleaned dataframe\n",
    "lat = cleaned_city_data.Lat\n",
    "max_temp = cleaned_city_data ['Max Temp']\n",
    "humid = cleaned_city_data.Humidity\n",
    "cloud = cleaned_city_data.Cloudiness\n",
    "wind = cleaned_city_data['Wind Speed']\n",
    "\n",
    "# export clean_city_data into csv file\n",
    "cleaned_city_data.to_csv('outputs/cleaned_city_data.csv', index = False, header = True)"
   ]
  },
  {
   "cell_type": "markdown",
   "id": "4ae24966",
   "metadata": {},
   "source": [
    "# Plotting Data"
   ]
  },
  {
   "cell_type": "markdown",
   "id": "22cca796",
   "metadata": {},
   "source": [
    "## Latitude vs. Temperature Plot"
   ]
  },
  {
   "cell_type": "code",
   "execution_count": 27,
   "id": "bc7540e3",
   "metadata": {},
   "outputs": [
    {
     "data": {
      "image/png": "[encoded data removed]",
      "text/plain": [
       "<Figure size 432x288 with 1 Axes>"
      ]
     },
     "metadata": {
      "needs_background": "light"
     },
     "output_type": "display_data"
    }
   ],
   "source": [
    "x_values = lat\n",
    "y_values = max_temp\n",
    "\n",
    "plt.scatter(x_values,y_values, marker = 'o', facecolor = 'mediumslateblue', edgecolor = 'black')\n",
    "\n",
    "plt.xlabel('Latitude')\n",
    "plt.ylabel('Max Temp (F)')\n",
    "plt.title (\"City Latitude vs. Max Temperature (%s)\" % time.strftime('%x'))\n",
    "plt.grid()\n",
    "plt.savefig('images/lat_vs_temp.png')\n",
    "plt.show()"
   ]
  },
  {
   "cell_type": "markdown",
   "id": "4d86de42",
   "metadata": {},
   "source": [
    "## Latitude vs. Humidity Plot"
   ]
  },
  {
   "cell_type": "code",
   "execution_count": 30,
   "id": "b9d4e433",
   "metadata": {},
   "outputs": [
    {
     "data": {
      "image/png": "[encoded data removed]",
      "text/plain": [
       "<Figure size 432x288 with 1 Axes>"
      ]
     },
     "metadata": {
      "needs_background": "light"
     },
     "output_type": "display_data"
    }
   ],
   "source": [
    "x_values = lat\n",
    "y_values = humid\n",
    "\n",
    "plt.scatter(x_values, y_values, marker = 'o', facecolor = 'mediumslateblue', edgecolor = 'black')\n",
    "\n",
    "plt.xlabel('Latitude')\n",
    "plt.ylabel('Humidity')\n",
    "plt.title('City Latitude vs. Humidity (%s)' % time.strftime('%x'))\n",
    "plt.grid()\n",
    "plt.savefig('images/lat_vs_humid.jpg')\n",
    "plt.show()"
   ]
  },
  {
   "cell_type": "markdown",
   "id": "856465d2",
   "metadata": {},
   "source": [
    "## Latitude vs. Cloudiness Plot"
   ]
  },
  {
   "cell_type": "code",
   "execution_count": 31,
   "id": "3d2cdec2",
   "metadata": {},
   "outputs": [
    {
     "data": {
      "text/plain": [
       "<function matplotlib.pyplot.show(close=None, block=None)>"
      ]
     },
     "execution_count": 31,
     "metadata": {},
     "output_type": "execute_result"
    },
    {
     "data": {
      "image/png": "[encoded data removed]",
      "text/plain": [
       "<Figure size 432x288 with 1 Axes>"
      ]
     },
     "metadata": {
      "needs_background": "light"
     },
     "output_type": "display_data"
    }
   ],
   "source": [
    "x_values = lat\n",
    "y_values = cloud\n",
    "\n",
    "plt.scatter(x_values, y_values, marker='o', facecolor='mediumslateblue', edgecolor='black')\n",
    "\n",
    "plt.xlabel('Latitude')\n",
    "plt.ylabel('Cloudiness (%)')\n",
    "plt.title('City Latitude vs. Cloudiness (%s)' % time.strftime('%x'))\n",
    "plt.grid()\n",
    "plt.savefig('images/lat_vs_cloud.png')\n",
    "plt.show"
   ]
  },
  {
   "cell_type": "markdown",
   "id": "e3cb136b",
   "metadata": {},
   "source": [
    "## Latitude vs. Wind Speed Plot"
   ]
  },
  {
   "cell_type": "code",
   "execution_count": 32,
   "id": "cdc1adf6",
   "metadata": {},
   "outputs": [
    {
     "data": {
      "text/plain": [
       "<function matplotlib.pyplot.show(close=None, block=None)>"
      ]
     },
     "execution_count": 32,
     "metadata": {},
     "output_type": "execute_result"
    },
    {
     "data": {
      "image/png": "[encoded data removed]",
      "text/plain": [
       "<Figure size 432x288 with 1 Axes>"
      ]
     },
     "metadata": {
      "needs_background": "light"
     },
     "output_type": "display_data"
    }
   ],
   "source": [
    "x_values = lat\n",
    "y_values = wind\n",
    "\n",
    "plt.scatter(x_values, y_values, marker='o', facecolor='mediumslateblue', edgecolor='black')\n",
    "\n",
    "plt.xlabel('Latitude')\n",
    "plt.ylabel('Wind Speed (mph)')\n",
    "plt.title('City Latitude vs. Wind Speed (%s)' % time.strftime('%x'))\n",
    "plt.grid()\n",
    "plt.savefig('images/lat_vs_wind.png')\n",
    "plt.show"
   ]
  },
  {
   "cell_type": "markdown",
   "id": "dbdbb56f",
   "metadata": {},
   "source": [
    "## Linear Regression"
   ]
  },
  {
   "cell_type": "code",
   "execution_count": 33,
   "id": "c1d8086f",
   "metadata": {},
   "outputs": [],
   "source": [
    "northern_hemisphere = cleaned_city_data.loc[cleaned_city_data['Lat'] >=0]\n",
    "southern_hemisphere = cleaned_city_data.loc[cleaned_city_data['Lat'] < 0]"
   ]
  },
  {
   "cell_type": "markdown",
   "id": "4e41497a",
   "metadata": {},
   "source": [
    "### Northern Hemisphere - Max Temp vs. Latitude Linear Regression"
   ]
  },
  {
   "cell_type": "code",
   "execution_count": 35,
   "id": "f5e042da",
   "metadata": {},
   "outputs": [
    {
     "name": "stdout",
     "output_type": "stream",
     "text": [
      "p-value = 5.98993473762751e-54\n",
      "r-value = -0.6869887907374209\n"
     ]
    },
    {
     "data": {
      "image/png": "[encoded data removed]",
      "text/plain": [
       "<Figure size 432x288 with 1 Axes>"
      ]
     },
     "metadata": {
      "needs_background": "light"
     },
     "output_type": "display_data"
    }
   ],
   "source": [
    "x_values = pd.to_numeric(northern_hemisphere['Lat']).astype(float)\n",
    "y_values = pd.to_numeric(northern_hemisphere['Max Temp']).astype(float)\n",
    "(slope, intercept, rvalue, pvalue, stderr) = linregress(x_values, y_values)\n",
    "regress_values = x_values * slope + intercept\n",
    "line_eq = 'y = ' + str(round(slope,2)) + 'x + ' + str(round(intercept,2))\n",
    "\n",
    "plt.scatter(x_values, y_values)\n",
    "plt.plot(x_values, regress_values, 'r-')\n",
    "plt.annotate (line_eq, (10, 40), fontsize=15, color='red')\n",
    "plt.xlabel('Latitude')\n",
    "plt.ylabel('Max Temperature (F)')\n",
    "plt.title('Northern Hemisphere - Max Temp vs. Latitude Linear Regression')\n",
    "\n",
    "print(f'p-value = {pvalue}')\n",
    "print(f'r-value = {rvalue}')\n",
    "\n",
    "plt.savefig('images/north_temp_regress.png')\n",
    "plt.show()"
   ]
  },
  {
   "cell_type": "markdown",
   "id": "3fd1dde6",
   "metadata": {},
   "source": [
    "### Southern Hemisphere - Max Temp vs. Latitude Linear Regression "
   ]
  },
  {
   "cell_type": "code",
   "execution_count": 37,
   "id": "1b263c6e",
   "metadata": {},
   "outputs": [
    {
     "name": "stdout",
     "output_type": "stream",
     "text": [
      "p-value = 1.9088116725029906e-36\n",
      "r-value = 0.7573057446153826\n"
     ]
    },
    {
     "data": {
      "image/png": "[encoded data removed]",
      "text/plain": [
       "<Figure size 432x288 with 1 Axes>"
      ]
     },
     "metadata": {
      "needs_background": "light"
     },
     "output_type": "display_data"
    }
   ],
   "source": [
    "x_values = pd.to_numeric(southern_hemisphere['Lat']).astype(float)\n",
    "y_values = pd.to_numeric(southern_hemisphere['Max Temp']).astype(float)\n",
    "(slope, intercept, rvalue, pvalue, stderr) = linregress(x_values, y_values)\n",
    "regress_values = x_values * slope + intercept\n",
    "line_eq = 'y = ' + str(round(slope,2)) + 'x + ' + str(round(intercept,2))\n",
    "\n",
    "plt.scatter(x_values, y_values)\n",
    "plt.plot(x_values, regress_values, 'r-')\n",
    "plt.annotate (line_eq, (-50, 90), fontsize=15, color='red')\n",
    "plt.xlabel('Latitude')\n",
    "plt.ylabel('Max Temperature (F)')\n",
    "plt.title('Southern Hemisphere - Max Temp vs. Latitude Linear Regression')\n",
    "\n",
    "print(f'p-value = {pvalue}')\n",
    "print(f'r-value = {rvalue}')\n",
    "\n",
    "plt.savefig('images/south_temp_regress.png')\n",
    "plt.show()"
   ]
  },
  {
   "cell_type": "markdown",
   "id": "e45025de",
   "metadata": {},
   "source": [
    "## Comparing linear regression of temperatures at changing latitudes in the northern vs. southern hemispheres:\n",
    "\n",
    "  The linear regression is modeling what happens to temperatures as latitude increases in the northern and southern hemispheres. Latitude increases the further away you move from the equator in the northern hemisphere and vice-versa in the southern hemisphere. In the northern hemisphere there is a significant negative correlation between latitude an max temperature, while the opposite is seen in the southern hemisphere, there is a positive correlation between increasing latitude and max temperature."
   ]
  },
  {
   "cell_type": "markdown",
   "id": "5b3e9200",
   "metadata": {},
   "source": [
    "### Northern Hemisphere - Humidity (%) vs Latitude Linear Regression"
   ]
  },
  {
   "cell_type": "code",
   "execution_count": 46,
   "id": "37e80d40",
   "metadata": {},
   "outputs": [
    {
     "name": "stdout",
     "output_type": "stream",
     "text": [
      "p-value = 0.5238669986964267\n",
      "r-value = 0.03292800051815778\n"
     ]
    },
    {
     "data": {
      "image/png": "[encoded data removed]",
      "text/plain": [
       "<Figure size 432x288 with 1 Axes>"
      ]
     },
     "metadata": {
      "needs_background": "light"
     },
     "output_type": "display_data"
    }
   ],
   "source": [
    "x_values = pd.to_numeric(northern_hemisphere['Lat']).astype(float)\n",
    "y_values = pd.to_numeric(northern_hemisphere['Humidity']).astype(float)\n",
    "(slope, intercept, rvalue, pvalue, stderr) = linregress(x_values, y_values)\n",
    "regress_values = x_values * slope + intercept\n",
    "line_eq = 'y = ' + str(round(slope,2)) + 'x + ' + str(round(intercept,2))\n",
    "\n",
    "plt.scatter(x_values, y_values)\n",
    "plt.plot(x_values, regress_values, 'r-')\n",
    "plt.annotate (line_eq, (45, 10), fontsize=15, color='red')\n",
    "plt.xlabel('Latitude')\n",
    "plt.ylabel('Humidity (%)')\n",
    "plt.title('Northern Hemisphere - Humidity (%) vs. Latitude Linear Regression')\n",
    "\n",
    "print(f'p-value = {pvalue}')\n",
    "print(f'r-value = {rvalue}')\n",
    "\n",
    "plt.savefig('images/north_humid_regress.png')\n",
    "plt.show()"
   ]
  },
  {
   "cell_type": "markdown",
   "id": "017bed8d",
   "metadata": {},
   "source": [
    "### Southern Hemisphere - Humidity (%) vs. Latitude Linear Regression"
   ]
  },
  {
   "cell_type": "code",
   "execution_count": 50,
   "id": "96c4cd6f",
   "metadata": {},
   "outputs": [
    {
     "name": "stdout",
     "output_type": "stream",
     "text": [
      "p-value = 0.7077456731498544\n",
      "r-value = -0.027445839472493416\n"
     ]
    },
    {
     "data": {
      "image/png": "[encoded data removed]",
      "text/plain": [
       "<Figure size 432x288 with 1 Axes>"
      ]
     },
     "metadata": {
      "needs_background": "light"
     },
     "output_type": "display_data"
    }
   ],
   "source": [
    "x_values = pd.to_numeric(southern_hemisphere['Lat']).astype(float)\n",
    "y_values = pd.to_numeric(southern_hemisphere['Humidity']).astype(float)\n",
    "(slope, intercept, rvalue, pvalue, stderr) = linregress(x_values, y_values)\n",
    "regress_values = x_values * slope + intercept\n",
    "line_eq = 'y = ' + str(round(slope,2)) + 'x + ' + str(round(intercept,2))\n",
    "\n",
    "plt.scatter(x_values, y_values)\n",
    "plt.plot(x_values, regress_values, 'r-')\n",
    "plt.annotate (line_eq, (-55, 15), fontsize=15, color='red')\n",
    "plt.xlabel('Latitude')\n",
    "plt.ylabel('Humidity (%)')\n",
    "plt.title('Southern Hemisphere - Humidity (%) vs. Latitude Linear Regression')\n",
    "\n",
    "print(f'p-value = {pvalue}')\n",
    "print(f'r-value = {rvalue}')\n",
    "\n",
    "plt.savefig('images/south_humid_regress.png')\n",
    "plt.show()"
   ]
  },
  {
   "cell_type": "markdown",
   "id": "280bba35",
   "metadata": {},
   "source": [
    "### Comparing linear regression of humidity at changing latitudes in the northern vs. southern hemispheres:\n",
    " The linear regression is modeling what happens to humidity as latitude increases in the northern and southern hemispheres. The high p-values (<.5) and low r-values indicate that there is no significant correlation between latitude and humidity in either hemisphere."
   ]
  },
  {
   "cell_type": "markdown",
   "id": "799bfde0",
   "metadata": {},
   "source": [
    "### Northern Hemisphere - Cloudiness (%) vs. Latitude Linear Regression"
   ]
  },
  {
   "cell_type": "code",
   "execution_count": 54,
   "id": "8bc0c8e6",
   "metadata": {},
   "outputs": [
    {
     "name": "stdout",
     "output_type": "stream",
     "text": [
      "p-value = 0.18417875903962425\n",
      "r-value = 0.06854252868214618\n"
     ]
    },
    {
     "data": {
      "image/png": "[encoded data removed]",
      "text/plain": [
       "<Figure size 432x288 with 1 Axes>"
      ]
     },
     "metadata": {
      "needs_background": "light"
     },
     "output_type": "display_data"
    }
   ],
   "source": [
    "x_values = pd.to_numeric(northern_hemisphere['Lat']).astype(float)\n",
    "y_values = pd.to_numeric(northern_hemisphere['Cloudiness']).astype(float)\n",
    "(slope, intercept, rvalue, pvalue, stderr) = linregress(x_values, y_values)\n",
    "regress_values = x_values * slope + intercept\n",
    "line_eq = 'y = ' + str(round(slope,2)) + 'x + ' + str(round(intercept,2))\n",
    "\n",
    "plt.scatter(x_values, y_values)\n",
    "plt.plot(x_values, regress_values, 'r-')\n",
    "plt.annotate (line_eq, (45, 10), fontsize=15, color='red')\n",
    "plt.xlabel('Latitude')\n",
    "plt.ylabel('Cloudiness (%)')\n",
    "plt.title('Northern Hemisphere - Cloudiness (%) vs. Latitude Linear Regression')\n",
    "\n",
    "print(f'p-value = {pvalue}')\n",
    "print(f'r-value = {rvalue}')\n",
    "\n",
    "plt.savefig('images/north_cloud_regress.png')\n",
    "plt.show()"
   ]
  },
  {
   "cell_type": "markdown",
   "id": "2346e3b3",
   "metadata": {},
   "source": [
    "### Southern Hemisphere - Cloudiness (%) vs. Latitude Linear Regression"
   ]
  },
  {
   "cell_type": "code",
   "execution_count": 57,
   "id": "ccb4eca8",
   "metadata": {},
   "outputs": [
    {
     "name": "stdout",
     "output_type": "stream",
     "text": [
      "p-value = 0.22199312099163393\n",
      "r-value = 0.08924721510739352\n"
     ]
    },
    {
     "data": {
      "image/png": "[encoded data removed]",
      "text/plain": [
       "<Figure size 432x288 with 1 Axes>"
      ]
     },
     "metadata": {
      "needs_background": "light"
     },
     "output_type": "display_data"
    }
   ],
   "source": [
    "x_values = pd.to_numeric(southern_hemisphere['Lat']).astype(float)\n",
    "y_values = pd.to_numeric(southern_hemisphere['Cloudiness']).astype(float)\n",
    "(slope, intercept, rvalue, pvalue, stderr) = linregress(x_values, y_values)\n",
    "regress_values = x_values * slope + intercept\n",
    "line_eq = 'y = ' + str(round(slope,2)) + 'x + ' + str(round(intercept,2))\n",
    "\n",
    "plt.scatter(x_values, y_values)\n",
    "plt.plot(x_values, regress_values, 'r-')\n",
    "plt.annotate (line_eq, (-55, 30), fontsize=15, color='red')\n",
    "plt.xlabel('Latitude')\n",
    "plt.ylabel('Cloudiness (%)')\n",
    "plt.title('Southern Hemisphere - Cloudiness (%) vs. Latitude Linear Regression')\n",
    "\n",
    "print(f'p-value = {pvalue}')\n",
    "print(f'r-value = {rvalue}')\n",
    "\n",
    "plt.savefig('images/south_cloud_regress.png')\n",
    "plt.show()"
   ]
  },
  {
   "cell_type": "markdown",
   "id": "30044cf7",
   "metadata": {},
   "source": [
    "### Comparing linear regression of cloudiness at changing latitudes in the northern vs. southern hemispheres\n",
    "\n",
    "The linear regression is modeling what happens to cloudiness as latitudes increase in the northern and southern hemispheres. The low p-values of both regressions indicate that there is little to no correlation between latitude and cloudiness."
   ]
  },
  {
   "cell_type": "markdown",
   "id": "5a899011",
   "metadata": {},
   "source": [
    "### Northern Hemisphere - Wind Speed (mph) vs. Latitude Linear Regression"
   ]
  },
  {
   "cell_type": "code",
   "execution_count": 58,
   "id": "028790e6",
   "metadata": {},
   "outputs": [
    {
     "name": "stdout",
     "output_type": "stream",
     "text": [
      "p-value = 0.04808939598802677\n",
      "r-value = -0.10187223594980209\n"
     ]
    },
    {
     "data": {
      "image/png": "[encoded data removed]",
      "text/plain": [
       "<Figure size 432x288 with 1 Axes>"
      ]
     },
     "metadata": {
      "needs_background": "light"
     },
     "output_type": "display_data"
    }
   ],
   "source": [
    "x_values = pd.to_numeric(northern_hemisphere['Lat']).astype(float)\n",
    "y_values = pd.to_numeric(northern_hemisphere['Wind Speed']).astype(float)\n",
    "(slope, intercept, rvalue, pvalue, stderr) = linregress(x_values, y_values)\n",
    "regress_values = x_values * slope + intercept\n",
    "line_eq = 'y = ' + str(round(slope,2)) + 'x + ' + str(round(intercept,2))\n",
    "\n",
    "plt.scatter(x_values, y_values)\n",
    "plt.plot(x_values, regress_values, 'r-')\n",
    "plt.annotate (line_eq, (45, 10), fontsize=15, color='red')\n",
    "plt.xlabel('Latitude')\n",
    "plt.ylabel('Wind Speed (mph)')\n",
    "plt.title('Northern Hemisphere - Wind Speed (mph) vs. Latitude Linear Regression')\n",
    "\n",
    "print(f'p-value = {pvalue}')\n",
    "print(f'r-value = {rvalue}')\n",
    "\n",
    "plt.savefig('images/north_wind_regress.png')\n",
    "plt.show()"
   ]
  },
  {
   "cell_type": "markdown",
   "id": "f12c3afc",
   "metadata": {},
   "source": [
    "### Southern Hemisphere - Wind Speed (mph) vs Latitude Linear Regression"
   ]
  },
  {
   "cell_type": "code",
   "execution_count": 60,
   "id": "dcb10e8f",
   "metadata": {},
   "outputs": [
    {
     "name": "stdout",
     "output_type": "stream",
     "text": [
      "p-value = 0.00012272915110459013\n",
      "r-value = -0.2757565379586431\n"
     ]
    },
    {
     "data": {
      "image/png": "[encoded data removed]",
      "text/plain": [
       "<Figure size 432x288 with 1 Axes>"
      ]
     },
     "metadata": {
      "needs_background": "light"
     },
     "output_type": "display_data"
    }
   ],
   "source": [
    "x_values = pd.to_numeric(southern_hemisphere['Lat']).astype(float)\n",
    "y_values = pd.to_numeric(southern_hemisphere['Wind Speed']).astype(float)\n",
    "(slope, intercept, rvalue, pvalue, stderr) = linregress(x_values, y_values)\n",
    "regress_values = x_values * slope + intercept\n",
    "line_eq = 'y = ' + str(round(slope,2)) + 'x + ' + str(round(intercept,2))\n",
    "\n",
    "plt.scatter(x_values, y_values)\n",
    "plt.plot(x_values, regress_values, 'r-')\n",
    "plt.annotate (line_eq, (-30, 27), fontsize=15, color='red')\n",
    "plt.xlabel('Latitude')\n",
    "plt.ylabel('Wind Speed (mph)')\n",
    "plt.title('Southern Hemisphere - Wind Speed (mph) vs. Latitude Linear Regression')\n",
    "\n",
    "print(f'p-value = {pvalue}')\n",
    "print(f'r-value = {rvalue}')\n",
    "\n",
    "plt.savefig('images/south_wind_regress.png')\n",
    "plt.show()"
   ]
  },
  {
   "cell_type": "markdown",
   "id": "a8b37fa0",
   "metadata": {},
   "source": [
    "### Comparing linear regression of wind speed at changing latitudes in the northern vs. southern hemisphere\n",
    "\n",
    "The linear regressino is modeling what happens to wind speed as latitudes increase in the northern and southern hemispheres. The low p-value of the northern hemisphere regression indicates that there is some negative correlation between wind speeds and distance from the equator. The low p-value of the southern hemisphere regression also indicates that there is a negative correlation between wind speed and distance from the equator in the southern hemisphere."
   ]
  },
  {
   "cell_type": "markdown",
   "id": "906a14e2",
   "metadata": {},
   "source": [
    "## Three observable trends based on data:\n",
    "- Regions that are close to the equator in both the northern and southern hemispheres experiences higher temperatures than regions further from the equator. This trend is shown in the 'Max Temp vs. Latitude Linear Regression' plots for both the northern and southern hemispheres.\n",
    "- Wind speed in both hemispheres are typically below 20 miles an hour, regardless of latitude. This is reasonable given that wind speed is determinded by pressure differentials in regions and not latitude.\n",
    "- Similar to wind speed, cloudiness across both hemispheres displayed no pattern based on latitude"
   ]
  },
  {
   "cell_type": "code",
   "execution_count": null,
   "id": "246d7e78",
   "metadata": {},
   "outputs": [],
   "source": []
  }
 ],
 "metadata": {
  "kernelspec": {
   "display_name": "Python 3 (ipykernel)",
   "language": "python",
   "name": "python3"
  },
  "language_info": {
   "codemirror_mode": {
    "name": "ipython",
    "version": 3
   },
   "file_extension": ".py",
   "mimetype": "text/x-python",
   "name": "python",
   "nbconvert_exporter": "python",
   "pygments_lexer": "ipython3",
   "version": "3.8.13"
  }
 },
 "nbformat": 4,
 "nbformat_minor": 5
}
